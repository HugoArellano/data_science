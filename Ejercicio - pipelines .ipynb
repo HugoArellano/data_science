{
 "cells": [
  {
   "cell_type": "code",
   "execution_count": 4,
   "metadata": {},
   "outputs": [
    {
     "name": "stdout",
     "output_type": "stream",
     "text": [
      "The watermark extension is already loaded. To reload it, use:\n",
      "  %reload_ext watermark\n",
      "Last updated: 2021-05-13T13:54:44.314131-05:00\n",
      "\n",
      "Python implementation: CPython\n",
      "Python version       : 3.7.6\n",
      "IPython version      : 7.12.0\n",
      "\n",
      "Compiler    : MSC v.1916 64 bit (AMD64)\n",
      "OS          : Windows\n",
      "Release     : 10\n",
      "Machine     : AMD64\n",
      "Processor   : Intel64 Family 6 Model 142 Stepping 10, GenuineIntel\n",
      "CPU cores   : 8\n",
      "Architecture: 64bit\n",
      "\n"
     ]
    }
   ],
   "source": [
    "%load_ext watermark\n",
    "%watermark"
   ]
  },
  {
   "cell_type": "code",
   "execution_count": 6,
   "metadata": {},
   "outputs": [],
   "source": [
    "import pandas as pd\n",
    "import numpy as np\n",
    "\n",
    "movies = pd.read_csv(\"data/movies.csv\")"
   ]
  },
  {
   "cell_type": "code",
   "execution_count": 7,
   "metadata": {},
   "outputs": [
    {
     "data": {
      "text/html": [
       "<div>\n",
       "<style scoped>\n",
       "    .dataframe tbody tr th:only-of-type {\n",
       "        vertical-align: middle;\n",
       "    }\n",
       "\n",
       "    .dataframe tbody tr th {\n",
       "        vertical-align: top;\n",
       "    }\n",
       "\n",
       "    .dataframe thead th {\n",
       "        text-align: right;\n",
       "    }\n",
       "</style>\n",
       "<table border=\"1\" class=\"dataframe\">\n",
       "  <thead>\n",
       "    <tr style=\"text-align: right;\">\n",
       "      <th></th>\n",
       "      <th>franquicia</th>\n",
       "      <th>presupuesto</th>\n",
       "      <th>genero</th>\n",
       "      <th>pagina_web</th>\n",
       "      <th>imdb_id</th>\n",
       "      <th>lenguaje</th>\n",
       "      <th>popularidad</th>\n",
       "      <th>productores</th>\n",
       "      <th>pais</th>\n",
       "      <th>fecha_estreno</th>\n",
       "      <th>ventas</th>\n",
       "      <th>duracion</th>\n",
       "      <th>estado</th>\n",
       "      <th>titulo</th>\n",
       "      <th>puntuacion</th>\n",
       "      <th>n_votos</th>\n",
       "    </tr>\n",
       "  </thead>\n",
       "  <tbody>\n",
       "    <tr>\n",
       "      <th>0</th>\n",
       "      <td>Father of the Bride Collection</td>\n",
       "      <td>NaN</td>\n",
       "      <td>Comedy</td>\n",
       "      <td>NaN</td>\n",
       "      <td>tt0113041</td>\n",
       "      <td>en</td>\n",
       "      <td>8.387519</td>\n",
       "      <td>Sandollar Productions</td>\n",
       "      <td>United States of America</td>\n",
       "      <td>1995-02-10</td>\n",
       "      <td>76578911.0</td>\n",
       "      <td>106.0</td>\n",
       "      <td>Released</td>\n",
       "      <td>Father of the Bride Part II</td>\n",
       "      <td>5.7</td>\n",
       "      <td>173.0</td>\n",
       "    </tr>\n",
       "    <tr>\n",
       "      <th>1</th>\n",
       "      <td>NaN</td>\n",
       "      <td>NaN</td>\n",
       "      <td>Drama</td>\n",
       "      <td>NaN</td>\n",
       "      <td>tt0112749</td>\n",
       "      <td>en</td>\n",
       "      <td>0.894647</td>\n",
       "      <td>Miramax</td>\n",
       "      <td>South Africa</td>\n",
       "      <td>1995-12-15</td>\n",
       "      <td>676525.0</td>\n",
       "      <td>106.0</td>\n",
       "      <td>Released</td>\n",
       "      <td>Cry, the Beloved Country</td>\n",
       "      <td>6.7</td>\n",
       "      <td>13.0</td>\n",
       "    </tr>\n",
       "    <tr>\n",
       "      <th>2</th>\n",
       "      <td>Friday Collection</td>\n",
       "      <td>3500000.0</td>\n",
       "      <td>Comedy</td>\n",
       "      <td>http://www.newline.com/properties/friday.html</td>\n",
       "      <td>tt0113118</td>\n",
       "      <td>en</td>\n",
       "      <td>14.569650</td>\n",
       "      <td>New Line Cinema</td>\n",
       "      <td>United States of America</td>\n",
       "      <td>1995-04-26</td>\n",
       "      <td>28215918.0</td>\n",
       "      <td>91.0</td>\n",
       "      <td>Released</td>\n",
       "      <td>Friday</td>\n",
       "      <td>7.0</td>\n",
       "      <td>513.0</td>\n",
       "    </tr>\n",
       "    <tr>\n",
       "      <th>3</th>\n",
       "      <td>NaN</td>\n",
       "      <td>NaN</td>\n",
       "      <td>Comedy</td>\n",
       "      <td>NaN</td>\n",
       "      <td>tt0115697</td>\n",
       "      <td>en</td>\n",
       "      <td>8.963037</td>\n",
       "      <td>Paramount Pictures</td>\n",
       "      <td>United States of America</td>\n",
       "      <td>1996-02-01</td>\n",
       "      <td>32.0</td>\n",
       "      <td>87.0</td>\n",
       "      <td>Released</td>\n",
       "      <td>Black Sheep</td>\n",
       "      <td>6.0</td>\n",
       "      <td>124.0</td>\n",
       "    </tr>\n",
       "    <tr>\n",
       "      <th>4</th>\n",
       "      <td>NaN</td>\n",
       "      <td>12000000.0</td>\n",
       "      <td>Comedy</td>\n",
       "      <td>NaN</td>\n",
       "      <td>tt0116483</td>\n",
       "      <td>en</td>\n",
       "      <td>9.592265</td>\n",
       "      <td>Universal Pictures</td>\n",
       "      <td>United States of America</td>\n",
       "      <td>1996-02-16</td>\n",
       "      <td>41205099.0</td>\n",
       "      <td>92.0</td>\n",
       "      <td>Released</td>\n",
       "      <td>Happy Gilmore</td>\n",
       "      <td>6.5</td>\n",
       "      <td>767.0</td>\n",
       "    </tr>\n",
       "  </tbody>\n",
       "</table>\n",
       "</div>"
      ],
      "text/plain": [
       "                       franquicia  presupuesto  genero  \\\n",
       "0  Father of the Bride Collection          NaN  Comedy   \n",
       "1                             NaN          NaN   Drama   \n",
       "2               Friday Collection    3500000.0  Comedy   \n",
       "3                             NaN          NaN  Comedy   \n",
       "4                             NaN   12000000.0  Comedy   \n",
       "\n",
       "                                      pagina_web    imdb_id lenguaje  \\\n",
       "0                                            NaN  tt0113041       en   \n",
       "1                                            NaN  tt0112749       en   \n",
       "2  http://www.newline.com/properties/friday.html  tt0113118       en   \n",
       "3                                            NaN  tt0115697       en   \n",
       "4                                            NaN  tt0116483       en   \n",
       "\n",
       "   popularidad            productores                      pais fecha_estreno  \\\n",
       "0     8.387519  Sandollar Productions  United States of America    1995-02-10   \n",
       "1     0.894647                Miramax              South Africa    1995-12-15   \n",
       "2    14.569650        New Line Cinema  United States of America    1995-04-26   \n",
       "3     8.963037     Paramount Pictures  United States of America    1996-02-01   \n",
       "4     9.592265     Universal Pictures  United States of America    1996-02-16   \n",
       "\n",
       "       ventas  duracion    estado                       titulo  puntuacion  \\\n",
       "0  76578911.0     106.0  Released  Father of the Bride Part II         5.7   \n",
       "1    676525.0     106.0  Released     Cry, the Beloved Country         6.7   \n",
       "2  28215918.0      91.0  Released                       Friday         7.0   \n",
       "3        32.0      87.0  Released                  Black Sheep         6.0   \n",
       "4  41205099.0      92.0  Released                Happy Gilmore         6.5   \n",
       "\n",
       "   n_votos  \n",
       "0    173.0  \n",
       "1     13.0  \n",
       "2    513.0  \n",
       "3    124.0  \n",
       "4    767.0  "
      ]
     },
     "execution_count": 7,
     "metadata": {},
     "output_type": "execute_result"
    }
   ],
   "source": [
    "movies.head()"
   ]
  },
  {
   "cell_type": "markdown",
   "metadata": {},
   "source": [
    "#### Crear pipeline que seleccione las columnas númericas (columnextractor), impute con la media y estandarice los datos númericos \n",
    "\n",
    "#### Transforma el data set e imprime las dimensiones del output\n",
    "\n",
    "#### Crea un pipeline igual que el anterior, pero que ademas tenga un estimador de linear regression. Para la variable objetivo \"ventas\", calcula el mae de este estimador usando el pipeline"
   ]
  },
  {
   "cell_type": "code",
   "execution_count": 9,
   "metadata": {},
   "outputs": [],
   "source": [
    "from IPython.display import Image\n",
    "\n",
    "from sklearn import preprocessing, feature_extraction "
   ]
  },
  {
   "cell_type": "code",
   "execution_count": 10,
   "metadata": {},
   "outputs": [],
   "source": [
    "class BinarizadorCategorico(preprocessing.LabelBinarizer):\n",
    "    def fit(self, X, y=None):\n",
    "        super(BinarizadorCategorico, self).fit(X)\n",
    "        \n",
    "    def transform(self, X, y=None):\n",
    "        return super(BinarizadorCategorico, self).transform(X)\n",
    "\n",
    "    def fit_transform(self, X, y=None):\n",
    "        return super(BinarizadorCategorico, self).fit(X).transform(X)\n",
    "    \n",
    "    \n",
    "class CodificadorCategorico(preprocessing.LabelEncoder):\n",
    "    def fit(self, X, y=None):\n",
    "        super(CodificadorCategorico, self).fit(X)\n",
    "        \n",
    "    def transform(self, X, y=None):\n",
    "        return super(CodificadorCategorico, self).transform(X)\n",
    "\n",
    "    def fit_transform(self, X, y=None):\n",
    "        return super(CodificadorCategorico, self).fit(X).transform(X)"
   ]
  },
  {
   "cell_type": "code",
   "execution_count": 15,
   "metadata": {},
   "outputs": [
    {
     "data": {
      "text/plain": [
       "franquicia        object\n",
       "presupuesto      float64\n",
       "genero            object\n",
       "pagina_web        object\n",
       "imdb_id           object\n",
       "lenguaje          object\n",
       "popularidad      float64\n",
       "productores       object\n",
       "pais              object\n",
       "fecha_estreno     object\n",
       "ventas           float64\n",
       "duracion         float64\n",
       "estado            object\n",
       "titulo            object\n",
       "puntuacion       float64\n",
       "n_votos          float64\n",
       "dtype: object"
      ]
     },
     "execution_count": 15,
     "metadata": {},
     "output_type": "execute_result"
    }
   ],
   "source": [
    "movies.dtypes"
   ]
  },
  {
   "cell_type": "code",
   "execution_count": 21,
   "metadata": {},
   "outputs": [
    {
     "data": {
      "text/plain": [
       "presupuesto    float64\n",
       "popularidad    float64\n",
       "ventas         float64\n",
       "duracion       float64\n",
       "puntuacion     float64\n",
       "n_votos        float64\n",
       "dtype: object"
      ]
     },
     "execution_count": 21,
     "metadata": {},
     "output_type": "execute_result"
    }
   ],
   "source": [
    "#definimos las varibles númericas con float o imt\n",
    "\n",
    "movies_numericas = movies.select_dtypes([float])\n",
    "\n",
    "movies_numericas.dtypes"
   ]
  },
  {
   "cell_type": "code",
   "execution_count": 40,
   "metadata": {},
   "outputs": [],
   "source": [
    "from sklearn.linear_model import LogisticRegression \n",
    "\n",
    "col_numericas = ['presupuesto', 'popularidad', 'ventas',\n",
    "                'duracion', 'puntuacion', 'n_votos'] \n",
    "\n",
    "imputador = SimpleImputer(strategy='mean')\n",
    "escalador = preprocessing.StandardScaler()\n",
    "\n",
    "estimador = LogisticRegression()\n"
   ]
  },
  {
   "cell_type": "code",
   "execution_count": 41,
   "metadata": {},
   "outputs": [],
   "source": [
    "from sklearn.pipeline import Pipeline\n",
    "\n",
    "transformador_numerico = Pipeline([('imputador', imputador),('escalador', escalador)])\n",
    "                                 "
   ]
  },
  {
   "cell_type": "code",
   "execution_count": 42,
   "metadata": {},
   "outputs": [
    {
     "data": {
      "text/plain": [
       "Pipeline(memory=None,\n",
       "         steps=[('imputador',\n",
       "                 SimpleImputer(add_indicator=False, copy=True, fill_value=None,\n",
       "                               missing_values=nan, strategy='mean',\n",
       "                               verbose=0)),\n",
       "                ('escalador',\n",
       "                 StandardScaler(copy=True, with_mean=True, with_std=True))],\n",
       "         verbose=False)"
      ]
     },
     "execution_count": 42,
     "metadata": {},
     "output_type": "execute_result"
    }
   ],
   "source": [
    "transformador_numerico"
   ]
  },
  {
   "cell_type": "code",
   "execution_count": 43,
   "metadata": {},
   "outputs": [
    {
     "data": {
      "text/plain": [
       "array([[ 2.31225306e-16,  4.86394864e-01,  6.76155962e-01,\n",
       "         1.85918427e-01, -2.28649693e-01, -1.73928134e-01],\n",
       "       [ 2.31225306e-16, -9.32548795e-01, -5.82358615e-01,\n",
       "         1.85918427e-01,  4.50154083e-01, -4.99793331e-01],\n",
       "       [-8.78176892e-01,  1.65712027e+00, -1.25736243e-01,\n",
       "        -4.24055340e-01,  6.53795216e-01,  5.18535411e-01],\n",
       "       ...,\n",
       "       [ 2.31225306e-16, -1.08102798e+00,  1.23535830e-16,\n",
       "        -6.27379929e-01, -2.28649693e-01, -5.20159906e-01],\n",
       "       [ 2.31225306e-16,  7.42911802e-01,  1.23535830e-16,\n",
       "        -4.64720258e-01, -2.28649693e-01, -3.99997114e-01],\n",
       "       [ 2.31225306e-16, -1.07887709e+00,  1.23535830e-16,\n",
       "        -4.12456286e+00, -2.50085602e-02, -5.24233221e-01]])"
      ]
     },
     "execution_count": 43,
     "metadata": {},
     "output_type": "execute_result"
    }
   ],
   "source": [
    "transformador_numerico.fit_transform(movies[col_numericas])"
   ]
  },
  {
   "cell_type": "code",
   "execution_count": 44,
   "metadata": {},
   "outputs": [
    {
     "ename": "AttributeError",
     "evalue": "'Pipeline' object has no attribute 'shape'",
     "output_type": "error",
     "traceback": [
      "\u001b[1;31m---------------------------------------------------------------------------\u001b[0m",
      "\u001b[1;31mAttributeError\u001b[0m                            Traceback (most recent call last)",
      "\u001b[1;32m<ipython-input-44-64be2344475a>\u001b[0m in \u001b[0;36m<module>\u001b[1;34m\u001b[0m\n\u001b[1;32m----> 1\u001b[1;33m \u001b[0mtransformador_numerico\u001b[0m\u001b[1;33m.\u001b[0m\u001b[0mshape\u001b[0m\u001b[1;33m\u001b[0m\u001b[1;33m\u001b[0m\u001b[0m\n\u001b[0m",
      "\u001b[1;31mAttributeError\u001b[0m: 'Pipeline' object has no attribute 'shape'"
     ]
    }
   ],
   "source": []
  },
  {
   "cell_type": "code",
   "execution_count": null,
   "metadata": {},
   "outputs": [],
   "source": []
  }
 ],
 "metadata": {
  "kernelspec": {
   "display_name": "Python 3",
   "language": "python",
   "name": "python3"
  },
  "language_info": {
   "codemirror_mode": {
    "name": "ipython",
    "version": 3
   },
   "file_extension": ".py",
   "mimetype": "text/x-python",
   "name": "python",
   "nbconvert_exporter": "python",
   "pygments_lexer": "ipython3",
   "version": "3.7.6"
  }
 },
 "nbformat": 4,
 "nbformat_minor": 4
}
