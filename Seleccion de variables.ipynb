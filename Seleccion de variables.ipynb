{
 "cells": [
  {
   "cell_type": "code",
   "execution_count": 13,
   "metadata": {},
   "outputs": [
    {
     "name": "stdout",
     "output_type": "stream",
     "text": [
      "The watermark extension is already loaded. To reload it, use:\n",
      "  %reload_ext watermark\n",
      "Last updated: 2021-06-09T11:27:45.202377-05:00\n",
      "\n",
      "Python implementation: CPython\n",
      "Python version       : 3.7.6\n",
      "IPython version      : 7.12.0\n",
      "\n",
      "Compiler    : MSC v.1916 64 bit (AMD64)\n",
      "OS          : Windows\n",
      "Release     : 10\n",
      "Machine     : AMD64\n",
      "Processor   : Intel64 Family 6 Model 142 Stepping 10, GenuineIntel\n",
      "CPU cores   : 8\n",
      "Architecture: 64bit\n",
      "\n"
     ]
    }
   ],
   "source": [
    "%load_ext watermark\n",
    "%watermark"
   ]
  },
  {
   "cell_type": "code",
   "execution_count": 14,
   "metadata": {},
   "outputs": [],
   "source": [
    "from IPython.display import Image\n",
    "import pandas as pd\n",
    "import numpy as np\n",
    "import matplotlib\n",
    "import matplotlib.pyplot as plt\n",
    "%matplotlib inline\n",
    "\n",
    "matplotlib.rcParams['figure.figsize'] = [10, 10]"
   ]
  },
  {
   "cell_type": "code",
   "execution_count": 15,
   "metadata": {},
   "outputs": [],
   "source": [
    "np.random.seed(42)"
   ]
  },
  {
   "cell_type": "code",
   "execution_count": 5,
   "metadata": {},
   "outputs": [],
   "source": [
    "ames = pd.read_csv(\"data/ames.csv\").drop(\"id_parcela\", axis=1)"
   ]
  },
  {
   "cell_type": "code",
   "execution_count": 6,
   "metadata": {},
   "outputs": [
    {
     "data": {
      "text/plain": [
       "(2930, 80)"
      ]
     },
     "execution_count": 6,
     "metadata": {},
     "output_type": "execute_result"
    }
   ],
   "source": [
    "ames.shape"
   ]
  },
  {
   "cell_type": "code",
   "execution_count": 9,
   "metadata": {},
   "outputs": [
    {
     "data": {
      "text/html": [
       "<div>\n",
       "<style scoped>\n",
       "    .dataframe tbody tr th:only-of-type {\n",
       "        vertical-align: middle;\n",
       "    }\n",
       "\n",
       "    .dataframe tbody tr th {\n",
       "        vertical-align: top;\n",
       "    }\n",
       "\n",
       "    .dataframe thead th {\n",
       "        text-align: right;\n",
       "    }\n",
       "</style>\n",
       "<table border=\"1\" class=\"dataframe\">\n",
       "  <thead>\n",
       "    <tr style=\"text-align: right;\">\n",
       "      <th></th>\n",
       "      <th>1663</th>\n",
       "      <th>93</th>\n",
       "    </tr>\n",
       "  </thead>\n",
       "  <tbody>\n",
       "    <tr>\n",
       "      <th>tipo_construccion</th>\n",
       "      <td>20</td>\n",
       "      <td>120</td>\n",
       "    </tr>\n",
       "    <tr>\n",
       "      <th>tipo_zona</th>\n",
       "      <td>RL</td>\n",
       "      <td>FV</td>\n",
       "    </tr>\n",
       "    <tr>\n",
       "      <th>perimetro_conectado_calle</th>\n",
       "      <td>NaN</td>\n",
       "      <td>25</td>\n",
       "    </tr>\n",
       "    <tr>\n",
       "      <th>area_parcela</th>\n",
       "      <td>10530</td>\n",
       "      <td>4835</td>\n",
       "    </tr>\n",
       "    <tr>\n",
       "      <th>tipo_acceso</th>\n",
       "      <td>Pave</td>\n",
       "      <td>Pave</td>\n",
       "    </tr>\n",
       "    <tr>\n",
       "      <th>...</th>\n",
       "      <td>...</td>\n",
       "      <td>...</td>\n",
       "    </tr>\n",
       "    <tr>\n",
       "      <th>mes_venta</th>\n",
       "      <td>3</td>\n",
       "      <td>3</td>\n",
       "    </tr>\n",
       "    <tr>\n",
       "      <th>ano_venta</th>\n",
       "      <td>2007</td>\n",
       "      <td>2010</td>\n",
       "    </tr>\n",
       "    <tr>\n",
       "      <th>tipo_venta</th>\n",
       "      <td>WD</td>\n",
       "      <td>WD</td>\n",
       "    </tr>\n",
       "    <tr>\n",
       "      <th>condicion_venta</th>\n",
       "      <td>Normal</td>\n",
       "      <td>Normal</td>\n",
       "    </tr>\n",
       "    <tr>\n",
       "      <th>precio_venta</th>\n",
       "      <td>143250</td>\n",
       "      <td>260000</td>\n",
       "    </tr>\n",
       "  </tbody>\n",
       "</table>\n",
       "<p>80 rows × 2 columns</p>\n",
       "</div>"
      ],
      "text/plain": [
       "                             1663    93  \n",
       "tipo_construccion              20     120\n",
       "tipo_zona                      RL      FV\n",
       "perimetro_conectado_calle     NaN      25\n",
       "area_parcela                10530    4835\n",
       "tipo_acceso                  Pave    Pave\n",
       "...                           ...     ...\n",
       "mes_venta                       3       3\n",
       "ano_venta                    2007    2010\n",
       "tipo_venta                    WD      WD \n",
       "condicion_venta            Normal  Normal\n",
       "precio_venta               143250  260000\n",
       "\n",
       "[80 rows x 2 columns]"
      ]
     },
     "execution_count": 9,
     "metadata": {},
     "output_type": "execute_result"
    }
   ],
   "source": [
    "ames.sample(2).T"
   ]
  },
  {
   "cell_type": "markdown",
   "metadata": {},
   "source": [
    "### Elegimos las variables independientes y dependientes"
   ]
  },
  {
   "cell_type": "code",
   "execution_count": 10,
   "metadata": {},
   "outputs": [],
   "source": [
    "variables_independientes = ames.drop(\"precio_venta\", axis=1).columns\n",
    "variable_objetivo = [\"precio_venta\"]"
   ]
  },
  {
   "cell_type": "code",
   "execution_count": 11,
   "metadata": {},
   "outputs": [],
   "source": [
    "datos_numericos = ames[variables_independientes].select_dtypes([int, float])\n",
    "col_no_numericas = ames[variables_independientes].select_dtypes([object]).columns\n",
    "\n",
    "col_numericas = datos_numericos.columns\n",
    "\n",
    "# para crear este diccionario he ido a la descripcion del dataset\n",
    "dict_var_ordinales = {\n",
    "    \"calidad_cocinas\": [\"Po\", \"Fa\", \"TA\", \"Gd\", \"Ex\"],\n",
    "    \"funcionalidad\":[\"Sal\", \"Sev\", \"Maj2\", \"Maj1\", \"Min2\", \"Min1\",\"Typ\"],\n",
    "    \"calidad_chimeneas\":[\"NA\",\"Po\",\"Fa\",\"TA\",\"Gd\",\"Ex\"],\n",
    "    \"acabado_garaje\":[\"NA\",\"Unf\",\"RFn\",\"Fin\"],\n",
    "    \"calidad_garaje\":[\"NA\",\"Po\",\"Fa\",\"TA\",\"Gd\",\"Ex\"],\n",
    "    \"condicion_garaje\":[\"NA\",\"Po\",\"Fa\",\"TA\",\"Gd\",\"Ex\"],\n",
    "    \"acceso_garaje_pavimentado\":[\"N\", \"P\", \"Y\"],\n",
    "    \"calidad_piscina\":[\"NA\",\"Fa\",\"TA\",\"Gd\",\"Ex\"],\n",
    "    \"calidad_valla\":[\"NA\",\"MnWw\",\"GdWo\",\"MnPrv\",\"GdPrv\"],\n",
    "    \"forma_parcela\":[\"IR3\", \"IR2\", \"IR1\",\"Reg\"],\n",
    "    \"tipo_instalaciones\":[\"ELO\",\"NoSeWa\",\"NoSewr\",\"AllPub\"],\n",
    "    \"pendiente_parcela\":[\"Sev\", \"Mod\", \"Gtl\"],\n",
    "    \"calidad_material_exterior\":[\"Po\",\"Fa\",\"TA\",\"Gd\",\"Ex\"],\n",
    "    \"condicion_material_exterior\":[\"Po\",\"Fa\",\"TA\",\"Gd\",\"Ex\"],\n",
    "    \"altura_sotano\":[\"NA\",\"Po\",\"Fa\",\"TA\",\"Gd\",\"Ex\"],\n",
    "    \"condicion_sotano\":[\"NA\",\"Po\",\"Fa\",\"TA\",\"Gd\",\"Ex\"],\n",
    "    \"sotano_exterior\":[\"NA\",\"No\",\"Mn\",\"Av\",\"Gd\"],\n",
    "    \"calidad_sotano_habitable1\":[\"NA\", \"Unf\", \"LwQ\", \"Rec\", \"BLQ\", \"ALQ\", \"GLQ\"],\n",
    "    \"calidad_sotano_habitable2\":[\"NA\", \"Unf\", \"LwQ\", \"Rec\", \"BLQ\", \"ALQ\", \"GLQ\"],\n",
    "     \"calidad_calefaccion\":[\"Po\",\"Fa\",\"TA\",\"Gd\",\"Ex\"],\n",
    "}\n",
    "col_ordinales = list(dict_var_ordinales.keys())\n",
    "datos_ordinales = ames[col_ordinales]\n",
    "col_categoricas = list(set(col_no_numericas) - set(col_ordinales))\n",
    "datos_categoricos = ames[col_categoricas]"
   ]
  },
  {
   "cell_type": "markdown",
   "metadata": {},
   "source": [
    "#### Nos aseguramos de que todas las columnas esten guardadas como categoricas o númericas "
   ]
  },
  {
   "cell_type": "code",
   "execution_count": 12,
   "metadata": {},
   "outputs": [
    {
     "data": {
      "text/plain": [
       "['tipo_construccion',\n",
       " 'area_parcela',\n",
       " 'calidad_general',\n",
       " 'condicion_general',\n",
       " 'fecha_construccion',\n",
       " 'ano_remodelado',\n",
       " 'area_piso1',\n",
       " 'area_piso2',\n",
       " 'area_suelos_baja_calidad',\n",
       " 'area_habitable_sobre_suelo',\n",
       " 'n_aseos_sobre_suelo',\n",
       " 'n_medios_aseos_sobre_suelo',\n",
       " 'n_dormitorios_sobre_suelo',\n",
       " 'n_cocinas',\n",
       " 'n_habitaciones_sobre_suelo',\n",
       " 'n_chimeneas',\n",
       " 'area_terraza_madera',\n",
       " 'area_porche_abierto',\n",
       " 'area_porche_cerrado',\n",
       " 'area_porche_3estaciones',\n",
       " 'area_porche_tapado',\n",
       " 'area_piscina',\n",
       " 'valor_atributo_miscelaneo',\n",
       " 'mes_venta',\n",
       " 'ano_venta',\n",
       " 'precio_venta']"
      ]
     },
     "execution_count": 12,
     "metadata": {},
     "output_type": "execute_result"
    }
   ],
   "source": [
    "[col for col in ames.columns if col not in datos_numericos.columns and\\\n",
    " col not in datos_categoricos.columns and \\\n",
    " col not in datos_ordinales.columns]"
   ]
  },
  {
   "cell_type": "markdown",
   "metadata": {},
   "source": [
    "#### A las variables númericas les eliminamos los valores inexistentes "
   ]
  },
  {
   "cell_type": "code",
   "execution_count": 17,
   "metadata": {},
   "outputs": [],
   "source": [
    "from sklearn.preprocessing import normalize"
   ]
  },
  {
   "cell_type": "code",
   "execution_count": 18,
   "metadata": {},
   "outputs": [],
   "source": [
    "from sklearn.impute import SimpleImputer"
   ]
  },
  {
   "cell_type": "code",
   "execution_count": 21,
   "metadata": {},
   "outputs": [],
   "source": [
    "# Recordatorio: los transformadores de sklearn devuelven numpy arrays, no dataframes\n",
    "datos_numericos_imputados_normalizados = pd.DataFrame(\n",
    "    normalize(SimpleImputer(strategy=\"median\").fit_transform(datos_numericos)),\n",
    "    columns=datos_numericos.columns\n",
    ")"
   ]
  },
  {
   "cell_type": "markdown",
   "metadata": {},
   "source": [
    "### Variables categoricas"
   ]
  },
  {
   "cell_type": "markdown",
   "metadata": {},
   "source": [
    "Con las variables categóricas tenemos dos opciones principalmente:\n",
    "\n",
    "Usar sklearn.preprocessing.LabelBinarizer para hacer un 1 hot encoding y codificarlas como vectores\n",
    "Usar la función get_dummies de pandas.\n",
    "En general la opción recomendada es la de usar LabelBinarizer ya que esto nos crea un transformador de scikit learn que podemos usar en pipelines y para transformar nuevas observaciones. Sin embargo dado que esta sección es sobre selección de variables y para no hacerla demasiado larga, directamente voy a usar pd.get_dummies."
   ]
  },
  {
   "cell_type": "code",
   "execution_count": 22,
   "metadata": {},
   "outputs": [],
   "source": [
    "datos_categoricos_dummy = pd.get_dummies(datos_categoricos, drop_first=True)"
   ]
  },
  {
   "cell_type": "code",
   "execution_count": 23,
   "metadata": {},
   "outputs": [
    {
     "data": {
      "text/plain": [
       "(2930, 153)"
      ]
     },
     "execution_count": 23,
     "metadata": {},
     "output_type": "execute_result"
    }
   ],
   "source": [
    "datos_categoricos_dummy.shape"
   ]
  },
  {
   "cell_type": "markdown",
   "metadata": {},
   "source": [
    "### Variables ordinales "
   ]
  },
  {
   "cell_type": "code",
   "execution_count": 24,
   "metadata": {},
   "outputs": [],
   "source": [
    "dict_var_ordinales = {\n",
    "    \"calidad_cocinas\": [\"Po\", \"Fa\", \"TA\", \"Gd\", \"Ex\"],\n",
    "    \"funcionalidad\":[\"Sal\", \"Sev\", \"Maj2\", \"Maj1\", \"Min2\", \"Min1\",\"Typ\"],\n",
    "    \"calidad_chimeneas\":[\"NA\",\"Po\",\"Fa\",\"TA\",\"Gd\",\"Ex\"],\n",
    "    \"acabado_garaje\":[\"NA\",\"Unf\",\"RFn\",\"Fin\"],\n",
    "    \"calidad_garaje\":[\"NA\",\"Po\",\"Fa\",\"TA\",\"Gd\",\"Ex\"],\n",
    "    \"condicion_garaje\":[\"NA\",\"Po\",\"Fa\",\"TA\",\"Gd\",\"Ex\"],\n",
    "    \"acceso_garaje_pavimentado\":[\"N\", \"P\", \"Y\"],\n",
    "    \"calidad_piscina\":[\"NA\",\"Fa\",\"TA\",\"Gd\",\"Ex\"],\n",
    "    \"calidad_valla\":[\"NA\",\"MnWw\",\"GdWo\",\"MnPrv\",\"GdPrv\"],\n",
    "    \"forma_parcela\":[\"IR3\", \"IR2\", \"IR1\",\"Reg\"],\n",
    "    \"tipo_instalaciones\":[\"ELO\",\"NoSeWa\",\"NoSewr\",\"AllPub\"],\n",
    "    \"pendiente_parcela\":[\"Sev\", \"Mod\", \"Gtl\"],\n",
    "    \"calidad_material_exterior\":[\"Po\",\"Fa\",\"TA\",\"Gd\",\"Ex\"],\n",
    "    \"condicion_material_exterior\":[\"Po\",\"Fa\",\"TA\",\"Gd\",\"Ex\"],\n",
    "    \"altura_sotano\":[\"NA\",\"Po\",\"Fa\",\"TA\",\"Gd\",\"Ex\"],\n",
    "    \"condicion_sotano\":[\"NA\",\"Po\",\"Fa\",\"TA\",\"Gd\",\"Ex\"],\n",
    "    \"sotano_exterior\":[\"NA\",\"No\",\"Mn\",\"Av\",\"Gd\"],\n",
    "    \"calidad_sotano_habitable1\":[\"NA\", \"Unf\", \"LwQ\", \"Rec\", \"BLQ\", \"ALQ\", \"GLQ\"],\n",
    "    \"calidad_sotano_habitable2\":[\"NA\", \"Unf\", \"LwQ\", \"Rec\", \"BLQ\", \"ALQ\", \"GLQ\"],\n",
    "    \"calidad_calefaccion\":[\"Po\",\"Fa\",\"TA\",\"Gd\",\"Ex\"],\n",
    "}"
   ]
  },
  {
   "cell_type": "code",
   "execution_count": 25,
   "metadata": {},
   "outputs": [
    {
     "name": "stderr",
     "output_type": "stream",
     "text": [
      "C:\\Users\\carlo\\anaconda3\\lib\\site-packages\\ipykernel_launcher.py:5: SettingWithCopyWarning: \n",
      "A value is trying to be set on a copy of a slice from a DataFrame.\n",
      "Try using .loc[row_indexer,col_indexer] = value instead\n",
      "\n",
      "See the caveats in the documentation: https://pandas.pydata.org/pandas-docs/stable/user_guide/indexing.html#returning-a-view-versus-a-copy\n",
      "  \"\"\"\n"
     ]
    }
   ],
   "source": [
    "for columna_ordinal, valores in dict_var_ordinales.items():\n",
    "    datos_ordinales[columna_ordinal] = (\n",
    "    datos_ordinales[columna_ordinal]\n",
    "    .astype(\"category\")\n",
    "    .cat.set_categories(valores)\n",
    "    .cat.codes\n",
    ")"
   ]
  },
  {
   "cell_type": "code",
   "execution_count": 26,
   "metadata": {},
   "outputs": [
    {
     "data": {
      "text/html": [
       "<div>\n",
       "<style scoped>\n",
       "    .dataframe tbody tr th:only-of-type {\n",
       "        vertical-align: middle;\n",
       "    }\n",
       "\n",
       "    .dataframe tbody tr th {\n",
       "        vertical-align: top;\n",
       "    }\n",
       "\n",
       "    .dataframe thead th {\n",
       "        text-align: right;\n",
       "    }\n",
       "</style>\n",
       "<table border=\"1\" class=\"dataframe\">\n",
       "  <thead>\n",
       "    <tr style=\"text-align: right;\">\n",
       "      <th></th>\n",
       "      <th>calidad_cocinas</th>\n",
       "      <th>funcionalidad</th>\n",
       "      <th>calidad_chimeneas</th>\n",
       "      <th>acabado_garaje</th>\n",
       "      <th>calidad_garaje</th>\n",
       "      <th>condicion_garaje</th>\n",
       "      <th>acceso_garaje_pavimentado</th>\n",
       "      <th>calidad_piscina</th>\n",
       "      <th>calidad_valla</th>\n",
       "      <th>forma_parcela</th>\n",
       "      <th>tipo_instalaciones</th>\n",
       "      <th>pendiente_parcela</th>\n",
       "      <th>calidad_material_exterior</th>\n",
       "      <th>condicion_material_exterior</th>\n",
       "      <th>altura_sotano</th>\n",
       "      <th>condicion_sotano</th>\n",
       "      <th>sotano_exterior</th>\n",
       "      <th>calidad_sotano_habitable1</th>\n",
       "      <th>calidad_sotano_habitable2</th>\n",
       "      <th>calidad_calefaccion</th>\n",
       "    </tr>\n",
       "  </thead>\n",
       "  <tbody>\n",
       "    <tr>\n",
       "      <th>0</th>\n",
       "      <td>2</td>\n",
       "      <td>6</td>\n",
       "      <td>4</td>\n",
       "      <td>3</td>\n",
       "      <td>3</td>\n",
       "      <td>3</td>\n",
       "      <td>1</td>\n",
       "      <td>-1</td>\n",
       "      <td>-1</td>\n",
       "      <td>2</td>\n",
       "      <td>3</td>\n",
       "      <td>2</td>\n",
       "      <td>2</td>\n",
       "      <td>2</td>\n",
       "      <td>3</td>\n",
       "      <td>4</td>\n",
       "      <td>4</td>\n",
       "      <td>4</td>\n",
       "      <td>1</td>\n",
       "      <td>1</td>\n",
       "    </tr>\n",
       "    <tr>\n",
       "      <th>1</th>\n",
       "      <td>2</td>\n",
       "      <td>6</td>\n",
       "      <td>-1</td>\n",
       "      <td>1</td>\n",
       "      <td>3</td>\n",
       "      <td>3</td>\n",
       "      <td>2</td>\n",
       "      <td>-1</td>\n",
       "      <td>3</td>\n",
       "      <td>3</td>\n",
       "      <td>3</td>\n",
       "      <td>2</td>\n",
       "      <td>2</td>\n",
       "      <td>2</td>\n",
       "      <td>3</td>\n",
       "      <td>3</td>\n",
       "      <td>1</td>\n",
       "      <td>3</td>\n",
       "      <td>2</td>\n",
       "      <td>2</td>\n",
       "    </tr>\n",
       "    <tr>\n",
       "      <th>2</th>\n",
       "      <td>3</td>\n",
       "      <td>6</td>\n",
       "      <td>-1</td>\n",
       "      <td>1</td>\n",
       "      <td>3</td>\n",
       "      <td>3</td>\n",
       "      <td>2</td>\n",
       "      <td>-1</td>\n",
       "      <td>-1</td>\n",
       "      <td>2</td>\n",
       "      <td>3</td>\n",
       "      <td>2</td>\n",
       "      <td>2</td>\n",
       "      <td>2</td>\n",
       "      <td>3</td>\n",
       "      <td>3</td>\n",
       "      <td>1</td>\n",
       "      <td>5</td>\n",
       "      <td>1</td>\n",
       "      <td>2</td>\n",
       "    </tr>\n",
       "    <tr>\n",
       "      <th>3</th>\n",
       "      <td>4</td>\n",
       "      <td>6</td>\n",
       "      <td>3</td>\n",
       "      <td>3</td>\n",
       "      <td>3</td>\n",
       "      <td>3</td>\n",
       "      <td>2</td>\n",
       "      <td>-1</td>\n",
       "      <td>-1</td>\n",
       "      <td>3</td>\n",
       "      <td>3</td>\n",
       "      <td>2</td>\n",
       "      <td>3</td>\n",
       "      <td>2</td>\n",
       "      <td>3</td>\n",
       "      <td>3</td>\n",
       "      <td>1</td>\n",
       "      <td>5</td>\n",
       "      <td>1</td>\n",
       "      <td>4</td>\n",
       "    </tr>\n",
       "    <tr>\n",
       "      <th>4</th>\n",
       "      <td>2</td>\n",
       "      <td>6</td>\n",
       "      <td>3</td>\n",
       "      <td>3</td>\n",
       "      <td>3</td>\n",
       "      <td>3</td>\n",
       "      <td>2</td>\n",
       "      <td>-1</td>\n",
       "      <td>3</td>\n",
       "      <td>2</td>\n",
       "      <td>3</td>\n",
       "      <td>2</td>\n",
       "      <td>2</td>\n",
       "      <td>2</td>\n",
       "      <td>4</td>\n",
       "      <td>3</td>\n",
       "      <td>1</td>\n",
       "      <td>6</td>\n",
       "      <td>1</td>\n",
       "      <td>3</td>\n",
       "    </tr>\n",
       "  </tbody>\n",
       "</table>\n",
       "</div>"
      ],
      "text/plain": [
       "   calidad_cocinas  funcionalidad  calidad_chimeneas  acabado_garaje  \\\n",
       "0                2              6                  4               3   \n",
       "1                2              6                 -1               1   \n",
       "2                3              6                 -1               1   \n",
       "3                4              6                  3               3   \n",
       "4                2              6                  3               3   \n",
       "\n",
       "   calidad_garaje  condicion_garaje  acceso_garaje_pavimentado  \\\n",
       "0               3                 3                          1   \n",
       "1               3                 3                          2   \n",
       "2               3                 3                          2   \n",
       "3               3                 3                          2   \n",
       "4               3                 3                          2   \n",
       "\n",
       "   calidad_piscina  calidad_valla  forma_parcela  tipo_instalaciones  \\\n",
       "0               -1             -1              2                   3   \n",
       "1               -1              3              3                   3   \n",
       "2               -1             -1              2                   3   \n",
       "3               -1             -1              3                   3   \n",
       "4               -1              3              2                   3   \n",
       "\n",
       "   pendiente_parcela  calidad_material_exterior  condicion_material_exterior  \\\n",
       "0                  2                          2                            2   \n",
       "1                  2                          2                            2   \n",
       "2                  2                          2                            2   \n",
       "3                  2                          3                            2   \n",
       "4                  2                          2                            2   \n",
       "\n",
       "   altura_sotano  condicion_sotano  sotano_exterior  \\\n",
       "0              3                 4                4   \n",
       "1              3                 3                1   \n",
       "2              3                 3                1   \n",
       "3              3                 3                1   \n",
       "4              4                 3                1   \n",
       "\n",
       "   calidad_sotano_habitable1  calidad_sotano_habitable2  calidad_calefaccion  \n",
       "0                          4                          1                    1  \n",
       "1                          3                          2                    2  \n",
       "2                          5                          1                    2  \n",
       "3                          5                          1                    4  \n",
       "4                          6                          1                    3  "
      ]
     },
     "execution_count": 26,
     "metadata": {},
     "output_type": "execute_result"
    }
   ],
   "source": [
    "datos_ordinales.head()"
   ]
  },
  {
   "cell_type": "code",
   "execution_count": 27,
   "metadata": {},
   "outputs": [],
   "source": [
    "### Unimos los tres tipos de datos\n",
    "\n",
    "ames_procesado = pd.concat([\n",
    "    datos_numericos_imputados_normalizados,\n",
    "    datos_categoricos_dummy,\n",
    "    datos_ordinales\n",
    "], axis=1)"
   ]
  },
  {
   "cell_type": "code",
   "execution_count": 28,
   "metadata": {},
   "outputs": [
    {
     "data": {
      "text/plain": [
       "(2930, 184)"
      ]
     },
     "execution_count": 28,
     "metadata": {},
     "output_type": "execute_result"
    }
   ],
   "source": [
    "ames_procesado.shape"
   ]
  },
  {
   "cell_type": "markdown",
   "metadata": {},
   "source": [
    "### Ahora el dataset esta preparado para usarse "
   ]
  },
  {
   "cell_type": "markdown",
   "metadata": {},
   "source": [
    "#### Crear un selector RFE y entrenar con un Random Forest con las 20 mejores variables ¿que son las variables que han elegido?"
   ]
  },
  {
   "cell_type": "code",
   "execution_count": 29,
   "metadata": {},
   "outputs": [],
   "source": [
    "from sklearn.model_selection import cross_validate\n",
    "from sklearn.metrics import mean_squared_error\n",
    "from sklearn.svm import SVR\n",
    "from sklearn.ensemble import RandomForestRegressor\n",
    "from sklearn.linear_model import LinearRegression\n",
    "\n",
    "\n",
    "ames_X = ames_procesado\n",
    "ames_y = ames[variable_objetivo]"
   ]
  },
  {
   "cell_type": "markdown",
   "metadata": {},
   "source": [
    "Vamos a usar la función cross_validate que es una versión más flexible que cross_val_score. Evaluaremos usando la raíz del error cuadrático medio (RMSE)"
   ]
  },
  {
   "cell_type": "code",
   "execution_count": 30,
   "metadata": {},
   "outputs": [],
   "source": [
    "def rmse(y_real, y_pred):\n",
    "    return np.sqrt(mean_squared_error(y_real, y_pred))\n",
    "\n",
    "def rmse_cv(estimator, X, y):\n",
    "    y_pred = estimator.predict(X)\n",
    "    return rmse(y, y_pred)\n",
    "\n",
    "res = cross_validate(LinearRegression(), ames_procesado, ames[variable_objetivo],\n",
    "                     scoring=rmse_cv, n_jobs=-1, cv=10)"
   ]
  },
  {
   "cell_type": "code",
   "execution_count": 31,
   "metadata": {},
   "outputs": [
    {
     "data": {
      "text/plain": [
       "{'fit_time': array([0.15957141, 0.16954565, 0.07878757, 0.10272408, 0.10870862,\n",
       "        0.08875775, 0.13165116, 0.08377504, 0.02892113, 0.02792406]),\n",
       " 'score_time': array([0.00498676, 0.00498676, 0.0059855 , 0.00498676, 0.00498676,\n",
       "        0.00498676, 0.00298786, 0.00498676, 0.00199485, 0.0009973 ]),\n",
       " 'test_score': array([29869.59361161, 34889.42346779, 25569.84433073, 30687.24890532,\n",
       "        41765.03174894, 43664.68634708, 41549.41534577, 39705.84994347,\n",
       "        31162.38691242, 37269.65210705])}"
      ]
     },
     "execution_count": 31,
     "metadata": {},
     "output_type": "execute_result"
    }
   ],
   "source": [
    "res"
   ]
  },
  {
   "cell_type": "code",
   "execution_count": 32,
   "metadata": {},
   "outputs": [],
   "source": [
    "def evaluar_modelo(estimador, X, y):\n",
    "    resultados_estimador = cross_validate(estimador, X, y,\n",
    "                     scoring=rmse_cv, n_jobs=-1, cv=10, return_train_score=True)\n",
    "    return resultados_estimador"
   ]
  },
  {
   "cell_type": "code",
   "execution_count": 33,
   "metadata": {},
   "outputs": [],
   "source": [
    "resultados = {}\n",
    "\n",
    "def ver_resultados():\n",
    "    resultados_df  = pd.DataFrame(resultados).T\n",
    "    resultados_cols = resultados_df.columns\n",
    "    for col in resultados_df:\n",
    "        resultados_df[col] = resultados_df[col].apply(np.mean)\n",
    "        resultados_df[col+\"_idx\"] = resultados_df[col] / resultados_df[col].min()\n",
    "    return resultados_df"
   ]
  },
  {
   "cell_type": "code",
   "execution_count": 34,
   "metadata": {},
   "outputs": [],
   "source": [
    "resultados[\"reg_lineal_sin_seleccion\"] = evaluar_modelo(LinearRegression(), ames_X, ames_y)\n",
    "resultados[\"svr_sin_seleccion\"] = evaluar_modelo(SVR(), ames_X, ames_y)\n",
    "resultados[\"rf_sin_seleccion\"] = evaluar_modelo(RandomForestRegressor(), ames_X, ames_y)"
   ]
  },
  {
   "cell_type": "code",
   "execution_count": 35,
   "metadata": {},
   "outputs": [
    {
     "data": {
      "text/html": [
       "<div>\n",
       "<style scoped>\n",
       "    .dataframe tbody tr th:only-of-type {\n",
       "        vertical-align: middle;\n",
       "    }\n",
       "\n",
       "    .dataframe tbody tr th {\n",
       "        vertical-align: top;\n",
       "    }\n",
       "\n",
       "    .dataframe thead th {\n",
       "        text-align: right;\n",
       "    }\n",
       "</style>\n",
       "<table border=\"1\" class=\"dataframe\">\n",
       "  <thead>\n",
       "    <tr style=\"text-align: right;\">\n",
       "      <th></th>\n",
       "      <th>fit_time</th>\n",
       "      <th>score_time</th>\n",
       "      <th>test_score</th>\n",
       "      <th>train_score</th>\n",
       "      <th>fit_time_idx</th>\n",
       "      <th>score_time_idx</th>\n",
       "      <th>test_score_idx</th>\n",
       "      <th>train_score_idx</th>\n",
       "    </tr>\n",
       "  </thead>\n",
       "  <tbody>\n",
       "    <tr>\n",
       "      <th>reg_lineal_sin_seleccion</th>\n",
       "      <td>0.074502</td>\n",
       "      <td>0.003890</td>\n",
       "      <td>35613.313272</td>\n",
       "      <td>27932.677340</td>\n",
       "      <td>1.000000</td>\n",
       "      <td>1.000000</td>\n",
       "      <td>1.115189</td>\n",
       "      <td>2.383071</td>\n",
       "    </tr>\n",
       "    <tr>\n",
       "      <th>svr_sin_seleccion</th>\n",
       "      <td>3.261576</td>\n",
       "      <td>0.329124</td>\n",
       "      <td>81031.639474</td>\n",
       "      <td>82149.044830</td>\n",
       "      <td>43.778573</td>\n",
       "      <td>84.603216</td>\n",
       "      <td>2.537411</td>\n",
       "      <td>7.008531</td>\n",
       "    </tr>\n",
       "    <tr>\n",
       "      <th>rf_sin_seleccion</th>\n",
       "      <td>7.725937</td>\n",
       "      <td>0.023538</td>\n",
       "      <td>31934.774256</td>\n",
       "      <td>11721.293054</td>\n",
       "      <td>103.701550</td>\n",
       "      <td>6.050617</td>\n",
       "      <td>1.000000</td>\n",
       "      <td>1.000000</td>\n",
       "    </tr>\n",
       "  </tbody>\n",
       "</table>\n",
       "</div>"
      ],
      "text/plain": [
       "                          fit_time  score_time    test_score   train_score  \\\n",
       "reg_lineal_sin_seleccion  0.074502    0.003890  35613.313272  27932.677340   \n",
       "svr_sin_seleccion         3.261576    0.329124  81031.639474  82149.044830   \n",
       "rf_sin_seleccion          7.725937    0.023538  31934.774256  11721.293054   \n",
       "\n",
       "                          fit_time_idx  score_time_idx  test_score_idx  \\\n",
       "reg_lineal_sin_seleccion      1.000000        1.000000        1.115189   \n",
       "svr_sin_seleccion            43.778573       84.603216        2.537411   \n",
       "rf_sin_seleccion            103.701550        6.050617        1.000000   \n",
       "\n",
       "                          train_score_idx  \n",
       "reg_lineal_sin_seleccion         2.383071  \n",
       "svr_sin_seleccion                7.008531  \n",
       "rf_sin_seleccion                 1.000000  "
      ]
     },
     "execution_count": 35,
     "metadata": {},
     "output_type": "execute_result"
    }
   ],
   "source": [
    "ver_resultados()"
   ]
  },
  {
   "cell_type": "markdown",
   "metadata": {},
   "source": [
    "#### Crear un selector Kbest con el criterio f_regression que seleccione 5 variables, transformar los datos, y comprobar las dimensiones del nuevo dataset"
   ]
  },
  {
   "cell_type": "code",
   "execution_count": 36,
   "metadata": {},
   "outputs": [],
   "source": [
    "from sklearn.feature_selection import SelectKBest, f_regression"
   ]
  },
  {
   "cell_type": "code",
   "execution_count": 40,
   "metadata": {},
   "outputs": [
    {
     "name": "stderr",
     "output_type": "stream",
     "text": [
      "C:\\Users\\carlo\\anaconda3\\lib\\site-packages\\sklearn\\utils\\validation.py:760: DataConversionWarning: A column-vector y was passed when a 1d array was expected. Please change the shape of y to (n_samples, ), for example using ravel().\n",
      "  y = column_or_1d(y, warn=True)\n"
     ]
    }
   ],
   "source": [
    "selector_kbest5 = SelectKBest(f_regression, k=5)\n",
    "ames_X_kbest5 = selector_kbest5.fit_transform(ames_X, ames_y)"
   ]
  },
  {
   "cell_type": "code",
   "execution_count": 41,
   "metadata": {},
   "outputs": [
    {
     "data": {
      "text/plain": [
       "(2930, 5)"
      ]
     },
     "execution_count": 41,
     "metadata": {},
     "output_type": "execute_result"
    }
   ],
   "source": [
    "ames_X_kbest5.shape"
   ]
  },
  {
   "cell_type": "code",
   "execution_count": 43,
   "metadata": {},
   "outputs": [],
   "source": [
    "puntuaciones_seleccion_kbest5 = zip(ames_X.columns, selector_kbest5.scores_, \n",
    "                                   selector_kbest5.get_support())\n",
    "\n",
    "evaluacion_kbest5 = sorted(filter(lambda c: c[2], puntuaciones_seleccion_kbest5),\n",
    "                          key=lambda c: c[1], reverse= True)"
   ]
  },
  {
   "cell_type": "code",
   "execution_count": 44,
   "metadata": {},
   "outputs": [
    {
     "data": {
      "text/plain": [
       "[('calidad_material_exterior', 2781.4056293393337, True),\n",
       " ('ano_construccion_garaje', 2542.1834185458356, True),\n",
       " ('calidad_cocinas', 2423.00029861259, True),\n",
       " ('altura_sotano', 1372.464274306123, True),\n",
       " ('area_sotano_total', 1170.3575348657419, True)]"
      ]
     },
     "execution_count": 44,
     "metadata": {},
     "output_type": "execute_result"
    }
   ],
   "source": [
    "list(evaluacion_kbest5)\n"
   ]
  },
  {
   "cell_type": "code",
   "execution_count": 45,
   "metadata": {},
   "outputs": [],
   "source": [
    "resultados[\"reg_lineal_kbest_5\"] = evaluar_modelo(LinearRegression(), ames_X_kbest5, ames_y)\n",
    "resultados[\"rf_kbest_5\"] = evaluar_modelo(RandomForestRegressor(), ames_X_kbest5, ames_y)\n",
    "resultados[\"svr_kbest_5\"] = evaluar_modelo(SVR(), ames_X_kbest5, ames_y)"
   ]
  },
  {
   "cell_type": "code",
   "execution_count": 46,
   "metadata": {},
   "outputs": [
    {
     "data": {
      "text/html": [
       "<div>\n",
       "<style scoped>\n",
       "    .dataframe tbody tr th:only-of-type {\n",
       "        vertical-align: middle;\n",
       "    }\n",
       "\n",
       "    .dataframe tbody tr th {\n",
       "        vertical-align: top;\n",
       "    }\n",
       "\n",
       "    .dataframe thead th {\n",
       "        text-align: right;\n",
       "    }\n",
       "</style>\n",
       "<table border=\"1\" class=\"dataframe\">\n",
       "  <thead>\n",
       "    <tr style=\"text-align: right;\">\n",
       "      <th></th>\n",
       "      <th>fit_time</th>\n",
       "      <th>score_time</th>\n",
       "      <th>test_score</th>\n",
       "      <th>train_score</th>\n",
       "      <th>fit_time_idx</th>\n",
       "      <th>score_time_idx</th>\n",
       "      <th>test_score_idx</th>\n",
       "      <th>train_score_idx</th>\n",
       "    </tr>\n",
       "  </thead>\n",
       "  <tbody>\n",
       "    <tr>\n",
       "      <th>reg_lineal_sin_seleccion</th>\n",
       "      <td>0.074502</td>\n",
       "      <td>0.003890</td>\n",
       "      <td>35613.313272</td>\n",
       "      <td>27932.677340</td>\n",
       "      <td>6.853425</td>\n",
       "      <td>2.166605</td>\n",
       "      <td>1.115189</td>\n",
       "      <td>2.383071</td>\n",
       "    </tr>\n",
       "    <tr>\n",
       "      <th>svr_sin_seleccion</th>\n",
       "      <td>3.261576</td>\n",
       "      <td>0.329124</td>\n",
       "      <td>81031.639474</td>\n",
       "      <td>82149.044830</td>\n",
       "      <td>300.033168</td>\n",
       "      <td>183.301726</td>\n",
       "      <td>2.537411</td>\n",
       "      <td>7.008531</td>\n",
       "    </tr>\n",
       "    <tr>\n",
       "      <th>rf_sin_seleccion</th>\n",
       "      <td>7.725937</td>\n",
       "      <td>0.023538</td>\n",
       "      <td>31934.774256</td>\n",
       "      <td>11721.293054</td>\n",
       "      <td>710.710798</td>\n",
       "      <td>13.109295</td>\n",
       "      <td>1.000000</td>\n",
       "      <td>1.000000</td>\n",
       "    </tr>\n",
       "    <tr>\n",
       "      <th>reg_lineal_kbest_5</th>\n",
       "      <td>0.010871</td>\n",
       "      <td>0.001796</td>\n",
       "      <td>44581.994088</td>\n",
       "      <td>44735.293652</td>\n",
       "      <td>1.000000</td>\n",
       "      <td>1.000000</td>\n",
       "      <td>1.396033</td>\n",
       "      <td>3.816583</td>\n",
       "    </tr>\n",
       "    <tr>\n",
       "      <th>rf_kbest_5</th>\n",
       "      <td>0.953828</td>\n",
       "      <td>0.019253</td>\n",
       "      <td>42611.737854</td>\n",
       "      <td>15735.550041</td>\n",
       "      <td>87.742841</td>\n",
       "      <td>10.722786</td>\n",
       "      <td>1.334337</td>\n",
       "      <td>1.342476</td>\n",
       "    </tr>\n",
       "    <tr>\n",
       "      <th>svr_kbest_5</th>\n",
       "      <td>0.493588</td>\n",
       "      <td>0.028919</td>\n",
       "      <td>80919.325886</td>\n",
       "      <td>82045.292068</td>\n",
       "      <td>45.405254</td>\n",
       "      <td>16.106161</td>\n",
       "      <td>2.533894</td>\n",
       "      <td>6.999679</td>\n",
       "    </tr>\n",
       "  </tbody>\n",
       "</table>\n",
       "</div>"
      ],
      "text/plain": [
       "                          fit_time  score_time    test_score   train_score  \\\n",
       "reg_lineal_sin_seleccion  0.074502    0.003890  35613.313272  27932.677340   \n",
       "svr_sin_seleccion         3.261576    0.329124  81031.639474  82149.044830   \n",
       "rf_sin_seleccion          7.725937    0.023538  31934.774256  11721.293054   \n",
       "reg_lineal_kbest_5        0.010871    0.001796  44581.994088  44735.293652   \n",
       "rf_kbest_5                0.953828    0.019253  42611.737854  15735.550041   \n",
       "svr_kbest_5               0.493588    0.028919  80919.325886  82045.292068   \n",
       "\n",
       "                          fit_time_idx  score_time_idx  test_score_idx  \\\n",
       "reg_lineal_sin_seleccion      6.853425        2.166605        1.115189   \n",
       "svr_sin_seleccion           300.033168      183.301726        2.537411   \n",
       "rf_sin_seleccion            710.710798       13.109295        1.000000   \n",
       "reg_lineal_kbest_5            1.000000        1.000000        1.396033   \n",
       "rf_kbest_5                   87.742841       10.722786        1.334337   \n",
       "svr_kbest_5                  45.405254       16.106161        2.533894   \n",
       "\n",
       "                          train_score_idx  \n",
       "reg_lineal_sin_seleccion         2.383071  \n",
       "svr_sin_seleccion                7.008531  \n",
       "rf_sin_seleccion                 1.000000  \n",
       "reg_lineal_kbest_5               3.816583  \n",
       "rf_kbest_5                       1.342476  \n",
       "svr_kbest_5                      6.999679  "
      ]
     },
     "execution_count": 46,
     "metadata": {},
     "output_type": "execute_result"
    }
   ],
   "source": [
    "ver_resultados()"
   ]
  },
  {
   "cell_type": "markdown",
   "metadata": {},
   "source": [
    "### Crear un Selector RFE y entrenar con un Random Forest con las 20 mejores variables. ¿Que variables son las que se han elegido?"
   ]
  },
  {
   "cell_type": "code",
   "execution_count": 48,
   "metadata": {},
   "outputs": [
    {
     "name": "stderr",
     "output_type": "stream",
     "text": [
      "C:\\Users\\carlo\\anaconda3\\lib\\site-packages\\sklearn\\utils\\validation.py:760: DataConversionWarning: A column-vector y was passed when a 1d array was expected. Please change the shape of y to (n_samples, ), for example using ravel().\n",
      "  y = column_or_1d(y, warn=True)\n"
     ]
    }
   ],
   "source": [
    "from sklearn.feature_selection import RFE\n",
    "estimador_selector = RandomForestRegressor()\n",
    "selector_rfe20_rf = RFE(estimador_selector, n_features_to_select=20)\n",
    "ames_X_rfe20_rf = selector_rfe20_rf.fit_transform(ames_X, ames_y)"
   ]
  },
  {
   "cell_type": "code",
   "execution_count": 49,
   "metadata": {},
   "outputs": [
    {
     "data": {
      "text/plain": [
       "(2930, 20)"
      ]
     },
     "execution_count": 49,
     "metadata": {},
     "output_type": "execute_result"
    }
   ],
   "source": [
    "ames_X_rfe20_rf.shape"
   ]
  },
  {
   "cell_type": "code",
   "execution_count": 50,
   "metadata": {},
   "outputs": [],
   "source": [
    "evaluacion_rfe20_rf = sorted(\n",
    "    filter(lambda c: c[2], \n",
    "        zip(\n",
    "            ames_X.columns,\n",
    "            selector_rfe20_rf.ranking_,\n",
    "            selector_rfe20_rf.get_support()\n",
    "        )\n",
    "    ), key=lambda c: c[1],reverse=True\n",
    ")"
   ]
  },
  {
   "cell_type": "code",
   "execution_count": 51,
   "metadata": {},
   "outputs": [
    {
     "data": {
      "text/plain": [
       "[('perimetro_conectado_calle', 1, True),\n",
       " ('area_revestimiento', 1, True),\n",
       " ('area_sotano_habitable1', 1, True),\n",
       " ('area_sotano_inhabitable', 1, True),\n",
       " ('area_sotano_total', 1, True),\n",
       " ('n_aseos_sotanos', 1, True),\n",
       " ('ano_construccion_garaje', 1, True),\n",
       " ('n_coches_garaje', 1, True),\n",
       " ('area_garage', 1, True),\n",
       " ('barrio_Crawfor', 1, True),\n",
       " ('barrio_NoRidge', 1, True),\n",
       " ('tipo_garaje_Detchd', 1, True),\n",
       " ('tipo_casa_1Story', 1, True),\n",
       " ('tipo_casa_2Story', 1, True),\n",
       " ('calidad_cocinas', 1, True),\n",
       " ('calidad_chimeneas', 1, True),\n",
       " ('acabado_garaje', 1, True),\n",
       " ('calidad_material_exterior', 1, True),\n",
       " ('altura_sotano', 1, True),\n",
       " ('sotano_exterior', 1, True)]"
      ]
     },
     "execution_count": 51,
     "metadata": {},
     "output_type": "execute_result"
    }
   ],
   "source": [
    "evaluacion_rfe20_rf\n"
   ]
  },
  {
   "cell_type": "code",
   "execution_count": 53,
   "metadata": {},
   "outputs": [],
   "source": [
    "resultados[\"reg_lineal_rfe20_rf\"] = evaluar_modelo(LinearRegression(), ames_X_rfe20_rf, ames_y)\n",
    "resultados[\"rf_rfe20_rf\"] = evaluar_modelo(RandomForestRegressor(), ames_X_rfe20_rf, ames_y)\n",
    "resultados[\"svr_rfe20_rf\"] = evaluar_modelo(SVR(), ames_X_rfe20_rf, ames_y)"
   ]
  },
  {
   "cell_type": "code",
   "execution_count": 54,
   "metadata": {},
   "outputs": [
    {
     "name": "stderr",
     "output_type": "stream",
     "text": [
      "C:\\Users\\carlo\\anaconda3\\lib\\site-packages\\sklearn\\utils\\validation.py:760: DataConversionWarning: A column-vector y was passed when a 1d array was expected. Please change the shape of y to (n_samples, ), for example using ravel().\n",
      "  y = column_or_1d(y, warn=True)\n"
     ]
    }
   ],
   "source": [
    "estimador_selector = LinearRegression()\n",
    "selector_rfe20_lineal = RFE(estimador_selector, n_features_to_select=20)\n",
    "ames_X_rfe20_lineal = selector_rfe20_lineal.fit_transform(ames_X, ames_y)"
   ]
  },
  {
   "cell_type": "code",
   "execution_count": 55,
   "metadata": {},
   "outputs": [
    {
     "data": {
      "text/plain": [
       "[('perimetro_conectado_calle', 1, True),\n",
       " ('area_revestimiento', 1, True),\n",
       " ('area_sotano_habitable1', 1, True),\n",
       " ('area_sotano_habitable2', 1, True),\n",
       " ('area_sotano_inhabitable', 1, True),\n",
       " ('area_sotano_total', 1, True),\n",
       " ('n_aseos_sotanos', 1, True),\n",
       " ('n_medios_aseos_sotanos', 1, True),\n",
       " ('ano_construccion_garaje', 1, True),\n",
       " ('n_coches_garaje', 1, True),\n",
       " ('tipo_revestimiento_CBlock', 1, True),\n",
       " ('material_tejado_CompShg', 1, True),\n",
       " ('material_tejado_Membran', 1, True),\n",
       " ('material_tejado_Metal', 1, True),\n",
       " ('material_tejado_Roll', 1, True),\n",
       " ('material_tejado_Tar&Grv', 1, True),\n",
       " ('material_tejado_WdShake', 1, True),\n",
       " ('material_tejado_WdShngl', 1, True),\n",
       " ('barrio_GrnHill', 1, True),\n",
       " ('cercania_carretera2_PosA', 1, True)]"
      ]
     },
     "execution_count": 55,
     "metadata": {},
     "output_type": "execute_result"
    }
   ],
   "source": [
    "evaluacion_rfe20_lineal = sorted(\n",
    "    filter(lambda c: c[2], \n",
    "        zip(\n",
    "            ames_X.columns,\n",
    "            selector_rfe20_lineal.ranking_,\n",
    "            selector_rfe20_lineal.get_support()\n",
    "        )\n",
    "    ), key=lambda c: c[1],reverse=True\n",
    ")\n",
    "evaluacion_rfe20_lineal"
   ]
  },
  {
   "cell_type": "code",
   "execution_count": 56,
   "metadata": {},
   "outputs": [],
   "source": [
    "resultados[\"reg_lineal_rfe20_lineal\"] = evaluar_modelo(LinearRegression(), ames_X_rfe20_lineal, ames_y)\n",
    "resultados[\"rf_rfe20_lineal\"] = evaluar_modelo(RandomForestRegressor(), ames_X_rfe20_lineal, ames_y)\n",
    "resultados[\"svr_rfe20_lineal\"] = evaluar_modelo(SVR(), ames_X_rfe20_lineal, ames_y)"
   ]
  },
  {
   "cell_type": "code",
   "execution_count": 57,
   "metadata": {},
   "outputs": [
    {
     "data": {
      "text/html": [
       "<div>\n",
       "<style scoped>\n",
       "    .dataframe tbody tr th:only-of-type {\n",
       "        vertical-align: middle;\n",
       "    }\n",
       "\n",
       "    .dataframe tbody tr th {\n",
       "        vertical-align: top;\n",
       "    }\n",
       "\n",
       "    .dataframe thead th {\n",
       "        text-align: right;\n",
       "    }\n",
       "</style>\n",
       "<table border=\"1\" class=\"dataframe\">\n",
       "  <thead>\n",
       "    <tr style=\"text-align: right;\">\n",
       "      <th></th>\n",
       "      <th>fit_time</th>\n",
       "      <th>score_time</th>\n",
       "      <th>test_score</th>\n",
       "      <th>train_score</th>\n",
       "      <th>fit_time_idx</th>\n",
       "      <th>score_time_idx</th>\n",
       "      <th>test_score_idx</th>\n",
       "      <th>train_score_idx</th>\n",
       "    </tr>\n",
       "  </thead>\n",
       "  <tbody>\n",
       "    <tr>\n",
       "      <th>reg_lineal_sin_seleccion</th>\n",
       "      <td>0.074502</td>\n",
       "      <td>0.003890</td>\n",
       "      <td>3.561331e+04</td>\n",
       "      <td>27932.677340</td>\n",
       "      <td>19.155904</td>\n",
       "      <td>3.537419</td>\n",
       "      <td>1.115189e+00</td>\n",
       "      <td>2.383071</td>\n",
       "    </tr>\n",
       "    <tr>\n",
       "      <th>svr_sin_seleccion</th>\n",
       "      <td>3.261576</td>\n",
       "      <td>0.329124</td>\n",
       "      <td>8.103164e+04</td>\n",
       "      <td>82149.044830</td>\n",
       "      <td>838.618142</td>\n",
       "      <td>299.277045</td>\n",
       "      <td>2.537411e+00</td>\n",
       "      <td>7.008531</td>\n",
       "    </tr>\n",
       "    <tr>\n",
       "      <th>rf_sin_seleccion</th>\n",
       "      <td>7.725937</td>\n",
       "      <td>0.023538</td>\n",
       "      <td>3.193477e+04</td>\n",
       "      <td>11721.293054</td>\n",
       "      <td>1986.496935</td>\n",
       "      <td>21.403568</td>\n",
       "      <td>1.000000e+00</td>\n",
       "      <td>1.000000</td>\n",
       "    </tr>\n",
       "    <tr>\n",
       "      <th>reg_lineal_kbest_5</th>\n",
       "      <td>0.010871</td>\n",
       "      <td>0.001796</td>\n",
       "      <td>4.458199e+04</td>\n",
       "      <td>44735.293652</td>\n",
       "      <td>2.795085</td>\n",
       "      <td>1.632702</td>\n",
       "      <td>1.396033e+00</td>\n",
       "      <td>3.816583</td>\n",
       "    </tr>\n",
       "    <tr>\n",
       "      <th>rf_kbest_5</th>\n",
       "      <td>0.953828</td>\n",
       "      <td>0.019253</td>\n",
       "      <td>4.261174e+04</td>\n",
       "      <td>15735.550041</td>\n",
       "      <td>245.248679</td>\n",
       "      <td>17.507111</td>\n",
       "      <td>1.334337e+00</td>\n",
       "      <td>1.342476</td>\n",
       "    </tr>\n",
       "    <tr>\n",
       "      <th>svr_kbest_5</th>\n",
       "      <td>0.493588</td>\n",
       "      <td>0.028919</td>\n",
       "      <td>8.091933e+04</td>\n",
       "      <td>82045.292068</td>\n",
       "      <td>126.911535</td>\n",
       "      <td>26.296557</td>\n",
       "      <td>2.533894e+00</td>\n",
       "      <td>6.999679</td>\n",
       "    </tr>\n",
       "    <tr>\n",
       "      <th>reg_lineal_rfe20_rf</th>\n",
       "      <td>0.013066</td>\n",
       "      <td>0.002094</td>\n",
       "      <td>3.608432e+04</td>\n",
       "      <td>35811.511319</td>\n",
       "      <td>3.359495</td>\n",
       "      <td>1.904349</td>\n",
       "      <td>1.129938e+00</td>\n",
       "      <td>3.055253</td>\n",
       "    </tr>\n",
       "    <tr>\n",
       "      <th>rf_rfe20_rf</th>\n",
       "      <td>2.430299</td>\n",
       "      <td>0.017753</td>\n",
       "      <td>3.227696e+04</td>\n",
       "      <td>11973.784534</td>\n",
       "      <td>624.879817</td>\n",
       "      <td>16.143303</td>\n",
       "      <td>1.010715e+00</td>\n",
       "      <td>1.021541</td>\n",
       "    </tr>\n",
       "    <tr>\n",
       "      <th>svr_rfe20_rf</th>\n",
       "      <td>0.540956</td>\n",
       "      <td>0.034509</td>\n",
       "      <td>8.090977e+04</td>\n",
       "      <td>82044.768637</td>\n",
       "      <td>139.090801</td>\n",
       "      <td>31.379092</td>\n",
       "      <td>2.533595e+00</td>\n",
       "      <td>6.999635</td>\n",
       "    </tr>\n",
       "    <tr>\n",
       "      <th>reg_lineal_rfe20_lineal</th>\n",
       "      <td>0.003889</td>\n",
       "      <td>0.001100</td>\n",
       "      <td>7.186754e+14</td>\n",
       "      <td>49151.146028</td>\n",
       "      <td>1.000000</td>\n",
       "      <td>1.000000</td>\n",
       "      <td>2.250448e+10</td>\n",
       "      <td>4.193321</td>\n",
       "    </tr>\n",
       "    <tr>\n",
       "      <th>rf_rfe20_lineal</th>\n",
       "      <td>2.109264</td>\n",
       "      <td>0.017953</td>\n",
       "      <td>4.374378e+04</td>\n",
       "      <td>16270.827749</td>\n",
       "      <td>542.335035</td>\n",
       "      <td>16.324741</td>\n",
       "      <td>1.369785e+00</td>\n",
       "      <td>1.388143</td>\n",
       "    </tr>\n",
       "    <tr>\n",
       "      <th>svr_rfe20_lineal</th>\n",
       "      <td>0.522592</td>\n",
       "      <td>0.034109</td>\n",
       "      <td>8.108935e+04</td>\n",
       "      <td>82200.288056</td>\n",
       "      <td>134.369224</td>\n",
       "      <td>31.015501</td>\n",
       "      <td>2.539218e+00</td>\n",
       "      <td>7.012903</td>\n",
       "    </tr>\n",
       "  </tbody>\n",
       "</table>\n",
       "</div>"
      ],
      "text/plain": [
       "                          fit_time  score_time    test_score   train_score  \\\n",
       "reg_lineal_sin_seleccion  0.074502    0.003890  3.561331e+04  27932.677340   \n",
       "svr_sin_seleccion         3.261576    0.329124  8.103164e+04  82149.044830   \n",
       "rf_sin_seleccion          7.725937    0.023538  3.193477e+04  11721.293054   \n",
       "reg_lineal_kbest_5        0.010871    0.001796  4.458199e+04  44735.293652   \n",
       "rf_kbest_5                0.953828    0.019253  4.261174e+04  15735.550041   \n",
       "svr_kbest_5               0.493588    0.028919  8.091933e+04  82045.292068   \n",
       "reg_lineal_rfe20_rf       0.013066    0.002094  3.608432e+04  35811.511319   \n",
       "rf_rfe20_rf               2.430299    0.017753  3.227696e+04  11973.784534   \n",
       "svr_rfe20_rf              0.540956    0.034509  8.090977e+04  82044.768637   \n",
       "reg_lineal_rfe20_lineal   0.003889    0.001100  7.186754e+14  49151.146028   \n",
       "rf_rfe20_lineal           2.109264    0.017953  4.374378e+04  16270.827749   \n",
       "svr_rfe20_lineal          0.522592    0.034109  8.108935e+04  82200.288056   \n",
       "\n",
       "                          fit_time_idx  score_time_idx  test_score_idx  \\\n",
       "reg_lineal_sin_seleccion     19.155904        3.537419    1.115189e+00   \n",
       "svr_sin_seleccion           838.618142      299.277045    2.537411e+00   \n",
       "rf_sin_seleccion           1986.496935       21.403568    1.000000e+00   \n",
       "reg_lineal_kbest_5            2.795085        1.632702    1.396033e+00   \n",
       "rf_kbest_5                  245.248679       17.507111    1.334337e+00   \n",
       "svr_kbest_5                 126.911535       26.296557    2.533894e+00   \n",
       "reg_lineal_rfe20_rf           3.359495        1.904349    1.129938e+00   \n",
       "rf_rfe20_rf                 624.879817       16.143303    1.010715e+00   \n",
       "svr_rfe20_rf                139.090801       31.379092    2.533595e+00   \n",
       "reg_lineal_rfe20_lineal       1.000000        1.000000    2.250448e+10   \n",
       "rf_rfe20_lineal             542.335035       16.324741    1.369785e+00   \n",
       "svr_rfe20_lineal            134.369224       31.015501    2.539218e+00   \n",
       "\n",
       "                          train_score_idx  \n",
       "reg_lineal_sin_seleccion         2.383071  \n",
       "svr_sin_seleccion                7.008531  \n",
       "rf_sin_seleccion                 1.000000  \n",
       "reg_lineal_kbest_5               3.816583  \n",
       "rf_kbest_5                       1.342476  \n",
       "svr_kbest_5                      6.999679  \n",
       "reg_lineal_rfe20_rf              3.055253  \n",
       "rf_rfe20_rf                      1.021541  \n",
       "svr_rfe20_rf                     6.999635  \n",
       "reg_lineal_rfe20_lineal          4.193321  \n",
       "rf_rfe20_lineal                  1.388143  \n",
       "svr_rfe20_lineal                 7.012903  "
      ]
     },
     "execution_count": 57,
     "metadata": {},
     "output_type": "execute_result"
    }
   ],
   "source": [
    "ver_resultados()"
   ]
  },
  {
   "cell_type": "code",
   "execution_count": null,
   "metadata": {},
   "outputs": [],
   "source": []
  }
 ],
 "metadata": {
  "kernelspec": {
   "display_name": "Python 3",
   "language": "python",
   "name": "python3"
  },
  "language_info": {
   "codemirror_mode": {
    "name": "ipython",
    "version": 3
   },
   "file_extension": ".py",
   "mimetype": "text/x-python",
   "name": "python",
   "nbconvert_exporter": "python",
   "pygments_lexer": "ipython3",
   "version": "3.7.6"
  }
 },
 "nbformat": 4,
 "nbformat_minor": 4
}
